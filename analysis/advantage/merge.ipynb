{
 "cells": [
  {
   "cell_type": "code",
   "execution_count": 1,
   "metadata": {},
   "outputs": [],
   "source": [
    "fnames = ['Stockfish_1_vs_ckpt_100000_pt_1_3.csv',\n",
    "'Stockfish_1_vs_ckpt_100000_pt_1_2.csv',\n",
    "'Stockfish_1_vs_ckpt_100000_pt_1_1.csv',\n",
    "'Stockfish_1_vs_ckpt_100000_pt_1_0.csv',\n",
    "'Stockfish_1_vs_ckpt_100000_pt_0_75_3.csv',\n",
    "'Stockfish_1_vs_ckpt_100000_pt_1.csv',\n",
    "'Stockfish_1_vs_ckpt_100000_pt_0_75_2.csv',\n",
    "'Stockfish_1_vs_ckpt_100000_pt_0_75_1.csv',\n",
    "'Stockfish_1_vs_ckpt_100000_pt_0_75_0.csv',\n",
    "'Stockfish_1_vs_ckpt_100000_pt_0_001_3.csv',\n",
    "'Stockfish_1_vs_ckpt_100000_pt_0_75.csv',\n",
    "'Stockfish_1_vs_ckpt_100000_pt_0_001_2.csv',\n",
    "'Stockfish_1_vs_ckpt_100000_pt_0_001_1.csv',\n",
    "'Stockfish_1_vs_ckpt_100000_pt_0_001_0.csv',\n",
    "'Stockfish_1_vs_ckpt_100000_pt_0_001.csv']"
   ]
  },
  {
   "cell_type": "code",
   "execution_count": 8,
   "metadata": {},
   "outputs": [],
   "source": [
    "import torch\n",
    "\n",
    "\n",
    "csv_file_base = \"Stockfish_1_vs_ckpt_100000_pt_{{temp}}_{{job_id}}.csv\"\n",
    "dat = {}\n",
    "for temp in [\"0_001\", \"0_75\", \"1\"]:\n",
    "    csv_file = csv_file_base.replace(\"{{temp}}\", temp)\n",
    "    dat[temp] = sum([torch.load(csv_file.replace('{{job_id}}', str(job_id))) for job_id in range(4)], [])\n",
    "        \n",
    "\n"
   ]
  },
  {
   "cell_type": "code",
   "execution_count": 9,
   "metadata": {},
   "outputs": [],
   "source": [
    "torch.save(dat, 'all_data.pt')"
   ]
  }
 ],
 "metadata": {
  "kernelspec": {
   "display_name": ".venv",
   "language": "python",
   "name": "python3"
  },
  "language_info": {
   "codemirror_mode": {
    "name": "ipython",
    "version": 3
   },
   "file_extension": ".py",
   "mimetype": "text/x-python",
   "name": "python",
   "nbconvert_exporter": "python",
   "pygments_lexer": "ipython3",
   "version": "3.11.9"
  }
 },
 "nbformat": 4,
 "nbformat_minor": 2
}
